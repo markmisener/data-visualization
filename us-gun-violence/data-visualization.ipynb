{
 "cells": [
  {
   "cell_type": "code",
   "execution_count": 143,
   "metadata": {
    "collapsed": false,
    "deletable": true,
    "editable": true
   },
   "outputs": [],
   "source": [
    "import plotly.offline as py\n",
    "import plotly.graph_objs as go\n",
    "import cufflinks as cf\n",
    "import pandas as pd\n",
    "import numpy as np"
   ]
  },
  {
   "cell_type": "code",
   "execution_count": 144,
   "metadata": {
    "collapsed": false,
    "deletable": true,
    "editable": true
   },
   "outputs": [
    {
     "data": {
      "text/html": [
       "<script>requirejs.config({paths: { 'plotly': ['https://cdn.plot.ly/plotly-latest.min']},});if(!window.Plotly) {{require(['plotly'],function(plotly) {window.Plotly=plotly;});}}</script>"
      ],
      "text/plain": [
       "<IPython.core.display.HTML object>"
      ]
     },
     "metadata": {},
     "output_type": "display_data"
    }
   ],
   "source": [
    "# enable plotly inline\n",
    "py.init_notebook_mode(connected=True)"
   ]
  },
  {
   "cell_type": "code",
   "execution_count": 145,
   "metadata": {
    "collapsed": false,
    "deletable": true,
    "editable": true
   },
   "outputs": [],
   "source": [
    "files = {\n",
    "    'gun-violence': 'gun-violence.csv',\n",
    "    'population': 'population-estimates.csv'\n",
    "}"
   ]
  },
  {
   "cell_type": "code",
   "execution_count": 146,
   "metadata": {
    "collapsed": false,
    "deletable": true,
    "editable": true
   },
   "outputs": [],
   "source": [
    "# create population data frame\n",
    "pop_data = pd.read_csv(files['population'])\n",
    "pop_data = pop_data.ix[2:]"
   ]
  },
  {
   "cell_type": "code",
   "execution_count": 147,
   "metadata": {
    "collapsed": false,
    "deletable": true,
    "editable": true
   },
   "outputs": [],
   "source": [
    "# filter to relevant year\n",
    "pop_data = pop_data[['GEO.display-label', 'respop72015']].set_index('GEO.display-label')\n",
    "pop_data = pd.to_numeric(pop_data['respop72015'], errors='coerce')"
   ]
  },
  {
   "cell_type": "code",
   "execution_count": 148,
   "metadata": {
    "collapsed": false,
    "deletable": true,
    "editable": true
   },
   "outputs": [],
   "source": [
    "# create data frame\n",
    "data = pd.read_csv(files['gun-violence'])\n",
    "data['incident_year'] = data['incident_date'].str[-2:]\n",
    "data['mci'] = np.where(data['num_killed']>1, 'y', 'n')"
   ]
  },
  {
   "cell_type": "code",
   "execution_count": 149,
   "metadata": {
    "collapsed": false,
    "deletable": true,
    "editable": true
   },
   "outputs": [],
   "source": [
    "# group by state and mci / non-mci\n",
    "plot_df = data.groupby(['state', 'mci'])['gva_id'].sum().unstack('mci')\n",
    "plot_df['total_incidents'] = plot_df['n'] + plot_df['y']"
   ]
  },
  {
   "cell_type": "code",
   "execution_count": 150,
   "metadata": {
    "collapsed": false,
    "deletable": true,
    "editable": true
   },
   "outputs": [],
   "source": [
    "# join data frames\n",
    "plot_df = pd.concat([plot_df, pop_data], axis=1, join='inner').dropna()"
   ]
  },
  {
   "cell_type": "markdown",
   "metadata": {},
   "source": [
    "# helper functions"
   ]
  },
  {
   "cell_type": "code",
   "execution_count": 151,
   "metadata": {
    "collapsed": true
   },
   "outputs": [],
   "source": [
    "def annotate(data, col):\n",
    "    # Specify the y-position of the labels\n",
    "    y1 = data[col]\n",
    "    xcoord = range(0,len(plot_df.index))\n",
    "    return [dict(\n",
    "                x = xi,\n",
    "                y = yi * 1.0005,\n",
    "                text = str(int(round(yi,0))),\n",
    "                yanchor = 'bottom',\n",
    "                showarrow = False,\n",
    "                font = dict(\n",
    "                    size=9\n",
    "                )) for xi, yi in zip(xcoord, y1)]"
   ]
  },
  {
   "cell_type": "markdown",
   "metadata": {},
   "source": [
    "# Per Capita Plotting"
   ]
  },
  {
   "cell_type": "code",
   "execution_count": 152,
   "metadata": {
    "collapsed": false,
    "deletable": true,
    "editable": true
   },
   "outputs": [],
   "source": [
    "# calculate per capita values\n",
    "plot_df['mci-per-capita'] = plot_df['y'].astype(float) / plot_df['respop72015']\n",
    "plot_df['sci-per-capita'] = plot_df['n'].astype(float) / plot_df['respop72015']\n",
    "plot_df['incidents_per_capita'] = plot_df['total_incidents'].astype(float) / plot_df['respop72015']"
   ]
  },
  {
   "cell_type": "code",
   "execution_count": 153,
   "metadata": {
    "collapsed": true,
    "deletable": true,
    "editable": true
   },
   "outputs": [],
   "source": [
    "# sort by total incidents\n",
    "plot_df = plot_df.sort_values('incidents_per_capita', ascending=False)"
   ]
  },
  {
   "cell_type": "code",
   "execution_count": 154,
   "metadata": {
    "collapsed": false,
    "deletable": true,
    "editable": true
   },
   "outputs": [
    {
     "data": {
      "text/html": [
       "<div id=\"830e0ef8-d97b-43f2-80d1-1cca94bad55d\" style=\"height: 525px; width: 100%;\" class=\"plotly-graph-div\"></div><script type=\"text/javascript\">require([\"plotly\"], function(Plotly) { window.PLOTLYENV=window.PLOTLYENV || {};window.PLOTLYENV.BASE_URL=\"https://plot.ly\";Plotly.newPlot(\"830e0ef8-d97b-43f2-80d1-1cca94bad55d\", [{\"type\": \"bar\", \"x\": [\"District of Columbia\", \"Louisiana\", \"Missouri\", \"Alabama\", \"South Carolina\", \"Alaska\", \"Mississippi\", \"Maryland\", \"Nevada\", \"Delaware\", \"Tennessee\", \"Oklahoma\", \"Georgia\", \"Illinois\", \"Indiana\", \"New Mexico\", \"North Carolina\", \"Kentucky\", \"Ohio\", \"Arkansas\", \"Pennsylvania\", \"Kansas\", \"Texas\", \"Florida\", \"Virginia\", \"Wisconsin\", \"Michigan\", \"West Virginia\", \"Wyoming\", \"Colorado\", \"California\", \"New Jersey\", \"Arizona\", \"Nebraska\", \"Oregon\", \"Connecticut\", \"Washington\", \"Montana\", \"New York\", \"Minnesota\", \"Iowa\", \"North Dakota\", \"Idaho\", \"Vermont\", \"Utah\", \"South Dakota\", \"Massachusetts\", \"Maine\", \"New Hampshire\", \"Rhode Island\", \"Hawaii\"], \"y\": [1.8846641318124209, 3.5589756534532975, 2.7605599052677396, 2.6948105764606103, 1.724226973623744, 3.8473820202808113, 2.475981449925526, 1.6220308967050319, 2.6709806302309533, 1.151920747113435, 2.11916111679183, 1.2713058804940918, 2.0629958707216742, 1.1449702740941967, 1.6139943320523047, 2.4707039296267004, 1.3765238028191733, 2.010670286629069, 1.4029586281322914, 2.1104225902590956, 1.3254179280411025, 1.469113809016977, 1.5278155676954124, 1.375258049914184, 1.3884105593312555, 1.1911525873467448, 0.967437689567709, 0.8474335837859411, 2.0384161936301735, 1.0177435511733186, 0.9984702700623107, 0.5110499393113183, 1.0577290930885983, 1.8315258492028752, 1.1884403906996739, 0.8839099876743511, 1.3704815845137845, 1.0402682029800117, 0.6373120427468647, 1.0285771588937178, 0.6119355971495878, 2.7946327717203903, 0.57409195555099, 0.6230412656019884, 1.1223460981421727, 0.8282127834551976, 0.31036576768413854, 1.7411677178243443, 0.5152689597537367, 0.7751354257984016, 0.20679336380267435], \"name\": \"Multi-Casualty Incidents\"}, {\"type\": \"bar\", \"x\": [\"District of Columbia\", \"Louisiana\", \"Missouri\", \"Alabama\", \"South Carolina\", \"Alaska\", \"Mississippi\", \"Maryland\", \"Nevada\", \"Delaware\", \"Tennessee\", \"Oklahoma\", \"Georgia\", \"Illinois\", \"Indiana\", \"New Mexico\", \"North Carolina\", \"Kentucky\", \"Ohio\", \"Arkansas\", \"Pennsylvania\", \"Kansas\", \"Texas\", \"Florida\", \"Virginia\", \"Wisconsin\", \"Michigan\", \"West Virginia\", \"Wyoming\", \"Colorado\", \"California\", \"New Jersey\", \"Arizona\", \"Nebraska\", \"Oregon\", \"Connecticut\", \"Washington\", \"Montana\", \"New York\", \"Minnesota\", \"Iowa\", \"North Dakota\", \"Idaho\", \"Vermont\", \"Utah\", \"South Dakota\", \"Massachusetts\", \"Maine\", \"New Hampshire\", \"Rhode Island\", \"Hawaii\"], \"y\": [64.92774326567772, 30.673457690927574, 23.373693880932436, 23.201087924026837, 23.686302859432704, 20.601417598370602, 21.802638944261886, 21.610574785133394, 18.322334819058096, 19.721226850921944, 16.996216838055368, 17.50558939166086, 16.2312338103508, 16.900481143266386, 16.029924105092693, 14.860468685330119, 15.22216100646015, 14.46676724461322, 14.064091698029083, 13.113457305140951, 11.889854038698527, 11.691320461554154, 11.531382155245343, 11.050572159457976, 10.933369501799655, 11.108578826708612, 10.824488923037727, 9.949141274358396, 8.224114368195568, 9.14451320553886, 8.864038478860726, 9.347248212298865, 8.539140151712088, 7.619745384165089, 7.83753692314451, 7.607361247335616, 7.00994567769416, 7.138429874078972, 7.262267115267079, 5.639958255564983, 5.884848709897471, 3.701795549636887, 5.795155686343229, 5.702550308126292, 4.781918002456008, 4.840583643672631, 5.2478101890050395, 3.5600378537125525, 4.5841029063405605, 3.772033081573571, 2.139234131250074], \"name\": \"Single-Casualty Incidents\"}], {\"barmode\": \"stack\", \"annotations\": [{\"x\": 0, \"y\": 66.84581360118888, \"text\": \"67\", \"yanchor\": \"bottom\", \"showarrow\": false, \"font\": {\"size\": 9}}, {\"x\": 1, \"y\": 34.24954956105306, \"text\": \"34\", \"yanchor\": \"bottom\", \"showarrow\": false, \"font\": {\"size\": 9}}, {\"x\": 2, \"y\": 26.147320913093274, \"text\": \"26\", \"yanchor\": \"bottom\", \"showarrow\": false, \"font\": {\"size\": 9}}, {\"x\": 3, \"y\": 25.90884644973769, \"text\": \"26\", \"yanchor\": \"bottom\", \"showarrow\": false, \"font\": {\"size\": 9}}, {\"x\": 4, \"y\": 25.423235097972974, \"text\": \"25\", \"yanchor\": \"bottom\", \"showarrow\": false, \"font\": {\"size\": 9}}, {\"x\": 5, \"y\": 24.461024018460737, \"text\": \"24\", \"yanchor\": \"bottom\", \"showarrow\": false, \"font\": {\"size\": 9}}, {\"x\": 6, \"y\": 24.290759704384502, \"text\": \"24\", \"yanchor\": \"bottom\", \"showarrow\": false, \"font\": {\"size\": 9}}, {\"x\": 7, \"y\": 23.244221984679342, \"text\": \"23\", \"yanchor\": \"bottom\", \"showarrow\": false, \"font\": {\"size\": 9}}, {\"x\": 8, \"y\": 21.003812107013694, \"text\": \"21\", \"yanchor\": \"bottom\", \"showarrow\": false, \"font\": {\"size\": 9}}, {\"x\": 9, \"y\": 20.883584171834396, \"text\": \"21\", \"yanchor\": \"bottom\", \"showarrow\": false, \"font\": {\"size\": 9}}, {\"x\": 10, \"y\": 19.12493564382462, \"text\": \"19\", \"yanchor\": \"bottom\", \"showarrow\": false, \"font\": {\"size\": 9}}, {\"x\": 11, \"y\": 18.786283719791026, \"text\": \"19\", \"yanchor\": \"bottom\", \"showarrow\": false, \"font\": {\"size\": 9}}, {\"x\": 12, \"y\": 18.30337679591301, \"text\": \"18\", \"yanchor\": \"bottom\", \"showarrow\": false, \"font\": {\"size\": 9}}, {\"x\": 13, \"y\": 18.05447414306926, \"text\": \"18\", \"yanchor\": \"bottom\", \"showarrow\": false, \"font\": {\"size\": 9}}, {\"x\": 14, \"y\": 17.65274039636357, \"text\": \"18\", \"yanchor\": \"bottom\", \"showarrow\": false, \"font\": {\"size\": 9}}, {\"x\": 15, \"y\": 17.339838201264296, \"text\": \"17\", \"yanchor\": \"bottom\", \"showarrow\": false, \"font\": {\"size\": 9}}, {\"x\": 16, \"y\": 16.60698415168396, \"text\": \"17\", \"yanchor\": \"bottom\", \"showarrow\": false, \"font\": {\"size\": 9}}, {\"x\": 17, \"y\": 16.48567625000791, \"text\": \"16\", \"yanchor\": \"bottom\", \"showarrow\": false, \"font\": {\"size\": 9}}, {\"x\": 18, \"y\": 15.474783851324453, \"text\": \"15\", \"yanchor\": \"bottom\", \"showarrow\": false, \"font\": {\"size\": 9}}, {\"x\": 19, \"y\": 15.231491835347745, \"text\": \"15\", \"yanchor\": \"bottom\", \"showarrow\": false, \"font\": {\"size\": 9}}, {\"x\": 20, \"y\": 13.221879602722998, \"text\": \"13\", \"yanchor\": \"bottom\", \"showarrow\": false, \"font\": {\"size\": 9}}, {\"x\": 21, \"y\": 13.167014487706417, \"text\": \"13\", \"yanchor\": \"bottom\", \"showarrow\": false, \"font\": {\"size\": 9}}, {\"x\": 22, \"y\": 13.065727321802223, \"text\": \"13\", \"yanchor\": \"bottom\", \"showarrow\": false, \"font\": {\"size\": 9}}, {\"x\": 23, \"y\": 12.432043124476845, \"text\": \"12\", \"yanchor\": \"bottom\", \"showarrow\": false, \"font\": {\"size\": 9}}, {\"x\": 24, \"y\": 12.327940951161475, \"text\": \"12\", \"yanchor\": \"bottom\", \"showarrow\": false, \"font\": {\"size\": 9}}, {\"x\": 25, \"y\": 12.305881279762383, \"text\": \"12\", \"yanchor\": \"bottom\", \"showarrow\": false, \"font\": {\"size\": 9}}, {\"x\": 26, \"y\": 11.79782257591174, \"text\": \"12\", \"yanchor\": \"bottom\", \"showarrow\": false, \"font\": {\"size\": 9}}, {\"x\": 27, \"y\": 10.80197314557341, \"text\": \"11\", \"yanchor\": \"bottom\", \"showarrow\": false, \"font\": {\"size\": 9}}, {\"x\": 28, \"y\": 10.267661827106654, \"text\": \"10\", \"yanchor\": \"bottom\", \"showarrow\": false, \"font\": {\"size\": 9}}, {\"x\": 29, \"y\": 10.167337885090534, \"text\": \"10\", \"yanchor\": \"bottom\", \"showarrow\": false, \"font\": {\"size\": 9}}, {\"x\": 30, \"y\": 9.867440003297498, \"text\": \"10\", \"yanchor\": \"bottom\", \"showarrow\": false, \"font\": {\"size\": 9}}, {\"x\": 31, \"y\": 9.863227300685988, \"text\": \"10\", \"yanchor\": \"bottom\", \"showarrow\": false, \"font\": {\"size\": 9}}, {\"x\": 32, \"y\": 9.601667679423086, \"text\": \"10\", \"yanchor\": \"bottom\", \"showarrow\": false, \"font\": {\"size\": 9}}, {\"x\": 33, \"y\": 9.455996868984647, \"text\": \"9\", \"yanchor\": \"bottom\", \"showarrow\": false, \"font\": {\"size\": 9}}, {\"x\": 34, \"y\": 9.030490302501105, \"text\": \"9\", \"yanchor\": \"bottom\", \"showarrow\": false, \"font\": {\"size\": 9}}, {\"x\": 35, \"y\": 8.49551687062747, \"text\": \"8\", \"yanchor\": \"bottom\", \"showarrow\": false, \"font\": {\"size\": 9}}, {\"x\": 36, \"y\": 8.384617475839049, \"text\": \"8\", \"yanchor\": \"bottom\", \"showarrow\": false, \"font\": {\"size\": 9}}, {\"x\": 37, \"y\": 8.182787426097512, \"text\": \"8\", \"yanchor\": \"bottom\", \"showarrow\": false, \"font\": {\"size\": 9}}, {\"x\": 38, \"y\": 7.9035289475929495, \"text\": \"8\", \"yanchor\": \"bottom\", \"showarrow\": false, \"font\": {\"size\": 9}}, {\"x\": 39, \"y\": 6.67186968216593, \"text\": \"7\", \"yanchor\": \"bottom\", \"showarrow\": false, \"font\": {\"size\": 9}}, {\"x\": 40, \"y\": 6.500032699200582, \"text\": \"6\", \"yanchor\": \"bottom\", \"showarrow\": false, \"font\": {\"size\": 9}}, {\"x\": 41, \"y\": 6.499676535517956, \"text\": \"6\", \"yanchor\": \"bottom\", \"showarrow\": false, \"font\": {\"size\": 9}}, {\"x\": 42, \"y\": 6.372432265715166, \"text\": \"6\", \"yanchor\": \"bottom\", \"showarrow\": false, \"font\": {\"size\": 9}}, {\"x\": 43, \"y\": 6.328754369515144, \"text\": \"6\", \"yanchor\": \"bottom\", \"showarrow\": false, \"font\": {\"size\": 9}}, {\"x\": 44, \"y\": 5.907216232648479, \"text\": \"6\", \"yanchor\": \"bottom\", \"showarrow\": false, \"font\": {\"size\": 9}}, {\"x\": 45, \"y\": 5.671630825341392, \"text\": \"6\", \"yanchor\": \"bottom\", \"showarrow\": false, \"font\": {\"size\": 9}}, {\"x\": 46, \"y\": 5.560955044667522, \"text\": \"6\", \"yanchor\": \"bottom\", \"showarrow\": false, \"font\": {\"size\": 9}}, {\"x\": 47, \"y\": 5.303856174322664, \"text\": \"5\", \"yanchor\": \"bottom\", \"showarrow\": false, \"font\": {\"size\": 9}}, {\"x\": 48, \"y\": 5.101921552027343, \"text\": \"5\", \"yanchor\": \"bottom\", \"showarrow\": false, \"font\": {\"size\": 9}}, {\"x\": 49, \"y\": 4.549442091625659, \"text\": \"5\", \"yanchor\": \"bottom\", \"showarrow\": false, \"font\": {\"size\": 9}}, {\"x\": 50, \"y\": 2.3472005088002748, \"text\": \"2\", \"yanchor\": \"bottom\", \"showarrow\": false, \"font\": {\"size\": 9}}]}, {\"showLink\": true, \"linkText\": \"Export to plot.ly\"})});</script>"
      ],
      "text/plain": [
       "<IPython.core.display.HTML object>"
      ]
     },
     "metadata": {},
     "output_type": "display_data"
    }
   ],
   "source": [
    "trace1 = go.Bar(\n",
    "    x = plot_df.index,\n",
    "    y = plot_df['mci-per-capita'],\n",
    "    name = 'Multi-Casualty Incidents'\n",
    ")\n",
    "trace2 = go.Bar(\n",
    "    x = plot_df.index,\n",
    "    y = plot_df['sci-per-capita'],\n",
    "    name = 'Single-Casualty Incidents'\n",
    ")\n",
    "data = [trace1, trace2]\n",
    "layout = go.Layout(\n",
    "    barmode='stack',\n",
    "    annotations=annotate(plot_df, 'incidents_per_capita')\n",
    ")\n",
    "\n",
    "fig = go.Figure(data=data, layout=layout)\n",
    "py.iplot(fig, filename='State Gun Violence per Capita')"
   ]
  },
  {
   "cell_type": "markdown",
   "metadata": {},
   "source": [
    "# Stats Plotting"
   ]
  },
  {
   "cell_type": "code",
   "execution_count": null,
   "metadata": {
    "collapsed": false
   },
   "outputs": [],
   "source": [
    "# create min / max data frame\n",
    "stats_df = data.groupby(['state', 'mci'])['num_killed'].max().unstack()\n",
    "tmp_df = data.groupby(['state', 'mci'])['num_injured'].max().unstack()\n",
    "stats_df = pd.merge(stats_df, tmp_df, how='inner', left_index=True, right_index=True, sort=True,\n",
    "         suffixes=('_killed', '_injured'))\n",
    "del tmp_df"
   ]
  },
  {
   "cell_type": "code",
   "execution_count": 140,
   "metadata": {
    "collapsed": false
   },
   "outputs": [],
   "source": [
    "stats_df['total_values'] = stats_df['n_killed'] + stats_df['y_killed'] + stats_df['n_injured'] + stats_df['y_injured']"
   ]
  },
  {
   "cell_type": "code",
   "execution_count": 158,
   "metadata": {
    "collapsed": true
   },
   "outputs": [],
   "source": [
    "# sort by total incidents\n",
    "stats_df = stats_df.sort_values('y_killed', ascending=False)"
   ]
  },
  {
   "cell_type": "code",
   "execution_count": 160,
   "metadata": {
    "collapsed": false
   },
   "outputs": [
    {
     "data": {
      "text/html": [
       "<div id=\"f5800ce8-f837-4d5d-a154-2eb1a16145f5\" style=\"height: 525px; width: 100%;\" class=\"plotly-graph-div\"></div><script type=\"text/javascript\">require([\"plotly\"], function(Plotly) { window.PLOTLYENV=window.PLOTLYENV || {};window.PLOTLYENV.BASE_URL=\"https://plot.ly\";Plotly.newPlot(\"f5800ce8-f837-4d5d-a154-2eb1a16145f5\", [{\"type\": \"bar\", \"x\": [\"California\", \"Oregon\", \"Texas\", \"South Carolina\", \"Missouri\", \"Tennessee\", \"South Dakota\", \"Arizona\", \"Minnesota\", \"Georgia\", \"Montana\", \"Maine\", \"New Jersey\", \"Kentucky\", \"Washington\", \"Alaska\", \"Nevada\", \"Utah\", \"Vermont\", \"Wisconsin\", \"Oklahoma\", \"Colorado\", \"Louisiana\", \"Indiana\", \"Florida\", \"North Carolina\", \"New York\", \"Ohio\", \"Virginia\", \"Arkansas\", \"New Hampshire\", \"Idaho\", \"Michigan\", \"Nebraska\", \"Alabama\", \"Maryland\", \"Kansas\", \"Mississippi\", \"New Mexico\", \"Illinois\", \"Pennsylvania\", \"Massachusetts\", \"District of Columbia\", \"Iowa\", \"Connecticut\", \"West Virginia\", \"Delaware\", \"North Dakota\", \"Rhode Island\", \"Wyoming\", \"Hawaii\"], \"y\": [16.0, 10.0, 9.0, 9.0, 8.0, 6.0, 6.0, 5.0, 5.0, 5.0, 5.0, 4.0, 4.0, 4.0, 4.0, 4.0, 4.0, 4.0, 4.0, 4.0, 4.0, 4.0, 4.0, 4.0, 4.0, 4.0, 4.0, 4.0, 3.0, 3.0, 3.0, 3.0, 3.0, 3.0, 3.0, 3.0, 3.0, 3.0, 3.0, 3.0, 3.0, 2.0, 2.0, 2.0, 2.0, 2.0, 2.0, 2.0, 2.0, 2.0, 2.0], \"name\": \"Max Killed in MCI\"}], {\"barmode\": \"stack\", \"annotations\": [{\"x\": 0, \"y\": 16.008, \"text\": \"16\", \"yanchor\": \"bottom\", \"showarrow\": false, \"font\": {\"size\": 9}}, {\"x\": 1, \"y\": 10.004999999999999, \"text\": \"10\", \"yanchor\": \"bottom\", \"showarrow\": false, \"font\": {\"size\": 9}}, {\"x\": 2, \"y\": 9.0045, \"text\": \"9\", \"yanchor\": \"bottom\", \"showarrow\": false, \"font\": {\"size\": 9}}, {\"x\": 3, \"y\": 9.0045, \"text\": \"9\", \"yanchor\": \"bottom\", \"showarrow\": false, \"font\": {\"size\": 9}}, {\"x\": 4, \"y\": 8.004, \"text\": \"8\", \"yanchor\": \"bottom\", \"showarrow\": false, \"font\": {\"size\": 9}}, {\"x\": 5, \"y\": 6.003, \"text\": \"6\", \"yanchor\": \"bottom\", \"showarrow\": false, \"font\": {\"size\": 9}}, {\"x\": 6, \"y\": 6.003, \"text\": \"6\", \"yanchor\": \"bottom\", \"showarrow\": false, \"font\": {\"size\": 9}}, {\"x\": 7, \"y\": 5.0024999999999995, \"text\": \"5\", \"yanchor\": \"bottom\", \"showarrow\": false, \"font\": {\"size\": 9}}, {\"x\": 8, \"y\": 5.0024999999999995, \"text\": \"5\", \"yanchor\": \"bottom\", \"showarrow\": false, \"font\": {\"size\": 9}}, {\"x\": 9, \"y\": 5.0024999999999995, \"text\": \"5\", \"yanchor\": \"bottom\", \"showarrow\": false, \"font\": {\"size\": 9}}, {\"x\": 10, \"y\": 5.0024999999999995, \"text\": \"5\", \"yanchor\": \"bottom\", \"showarrow\": false, \"font\": {\"size\": 9}}, {\"x\": 11, \"y\": 4.002, \"text\": \"4\", \"yanchor\": \"bottom\", \"showarrow\": false, \"font\": {\"size\": 9}}, {\"x\": 12, \"y\": 4.002, \"text\": \"4\", \"yanchor\": \"bottom\", \"showarrow\": false, \"font\": {\"size\": 9}}, {\"x\": 13, \"y\": 4.002, \"text\": \"4\", \"yanchor\": \"bottom\", \"showarrow\": false, \"font\": {\"size\": 9}}, {\"x\": 14, \"y\": 4.002, \"text\": \"4\", \"yanchor\": \"bottom\", \"showarrow\": false, \"font\": {\"size\": 9}}, {\"x\": 15, \"y\": 4.002, \"text\": \"4\", \"yanchor\": \"bottom\", \"showarrow\": false, \"font\": {\"size\": 9}}, {\"x\": 16, \"y\": 4.002, \"text\": \"4\", \"yanchor\": \"bottom\", \"showarrow\": false, \"font\": {\"size\": 9}}, {\"x\": 17, \"y\": 4.002, \"text\": \"4\", \"yanchor\": \"bottom\", \"showarrow\": false, \"font\": {\"size\": 9}}, {\"x\": 18, \"y\": 4.002, \"text\": \"4\", \"yanchor\": \"bottom\", \"showarrow\": false, \"font\": {\"size\": 9}}, {\"x\": 19, \"y\": 4.002, \"text\": \"4\", \"yanchor\": \"bottom\", \"showarrow\": false, \"font\": {\"size\": 9}}, {\"x\": 20, \"y\": 4.002, \"text\": \"4\", \"yanchor\": \"bottom\", \"showarrow\": false, \"font\": {\"size\": 9}}, {\"x\": 21, \"y\": 4.002, \"text\": \"4\", \"yanchor\": \"bottom\", \"showarrow\": false, \"font\": {\"size\": 9}}, {\"x\": 22, \"y\": 4.002, \"text\": \"4\", \"yanchor\": \"bottom\", \"showarrow\": false, \"font\": {\"size\": 9}}, {\"x\": 23, \"y\": 4.002, \"text\": \"4\", \"yanchor\": \"bottom\", \"showarrow\": false, \"font\": {\"size\": 9}}, {\"x\": 24, \"y\": 4.002, \"text\": \"4\", \"yanchor\": \"bottom\", \"showarrow\": false, \"font\": {\"size\": 9}}, {\"x\": 25, \"y\": 4.002, \"text\": \"4\", \"yanchor\": \"bottom\", \"showarrow\": false, \"font\": {\"size\": 9}}, {\"x\": 26, \"y\": 4.002, \"text\": \"4\", \"yanchor\": \"bottom\", \"showarrow\": false, \"font\": {\"size\": 9}}, {\"x\": 27, \"y\": 4.002, \"text\": \"4\", \"yanchor\": \"bottom\", \"showarrow\": false, \"font\": {\"size\": 9}}, {\"x\": 28, \"y\": 3.0015, \"text\": \"3\", \"yanchor\": \"bottom\", \"showarrow\": false, \"font\": {\"size\": 9}}, {\"x\": 29, \"y\": 3.0015, \"text\": \"3\", \"yanchor\": \"bottom\", \"showarrow\": false, \"font\": {\"size\": 9}}, {\"x\": 30, \"y\": 3.0015, \"text\": \"3\", \"yanchor\": \"bottom\", \"showarrow\": false, \"font\": {\"size\": 9}}, {\"x\": 31, \"y\": 3.0015, \"text\": \"3\", \"yanchor\": \"bottom\", \"showarrow\": false, \"font\": {\"size\": 9}}, {\"x\": 32, \"y\": 3.0015, \"text\": \"3\", \"yanchor\": \"bottom\", \"showarrow\": false, \"font\": {\"size\": 9}}, {\"x\": 33, \"y\": 3.0015, \"text\": \"3\", \"yanchor\": \"bottom\", \"showarrow\": false, \"font\": {\"size\": 9}}, {\"x\": 34, \"y\": 3.0015, \"text\": \"3\", \"yanchor\": \"bottom\", \"showarrow\": false, \"font\": {\"size\": 9}}, {\"x\": 35, \"y\": 3.0015, \"text\": \"3\", \"yanchor\": \"bottom\", \"showarrow\": false, \"font\": {\"size\": 9}}, {\"x\": 36, \"y\": 3.0015, \"text\": \"3\", \"yanchor\": \"bottom\", \"showarrow\": false, \"font\": {\"size\": 9}}, {\"x\": 37, \"y\": 3.0015, \"text\": \"3\", \"yanchor\": \"bottom\", \"showarrow\": false, \"font\": {\"size\": 9}}, {\"x\": 38, \"y\": 3.0015, \"text\": \"3\", \"yanchor\": \"bottom\", \"showarrow\": false, \"font\": {\"size\": 9}}, {\"x\": 39, \"y\": 3.0015, \"text\": \"3\", \"yanchor\": \"bottom\", \"showarrow\": false, \"font\": {\"size\": 9}}, {\"x\": 40, \"y\": 3.0015, \"text\": \"3\", \"yanchor\": \"bottom\", \"showarrow\": false, \"font\": {\"size\": 9}}, {\"x\": 41, \"y\": 2.001, \"text\": \"2\", \"yanchor\": \"bottom\", \"showarrow\": false, \"font\": {\"size\": 9}}, {\"x\": 42, \"y\": 2.001, \"text\": \"2\", \"yanchor\": \"bottom\", \"showarrow\": false, \"font\": {\"size\": 9}}, {\"x\": 43, \"y\": 2.001, \"text\": \"2\", \"yanchor\": \"bottom\", \"showarrow\": false, \"font\": {\"size\": 9}}, {\"x\": 44, \"y\": 2.001, \"text\": \"2\", \"yanchor\": \"bottom\", \"showarrow\": false, \"font\": {\"size\": 9}}, {\"x\": 45, \"y\": 2.001, \"text\": \"2\", \"yanchor\": \"bottom\", \"showarrow\": false, \"font\": {\"size\": 9}}, {\"x\": 46, \"y\": 2.001, \"text\": \"2\", \"yanchor\": \"bottom\", \"showarrow\": false, \"font\": {\"size\": 9}}, {\"x\": 47, \"y\": 2.001, \"text\": \"2\", \"yanchor\": \"bottom\", \"showarrow\": false, \"font\": {\"size\": 9}}, {\"x\": 48, \"y\": 2.001, \"text\": \"2\", \"yanchor\": \"bottom\", \"showarrow\": false, \"font\": {\"size\": 9}}, {\"x\": 49, \"y\": 2.001, \"text\": \"2\", \"yanchor\": \"bottom\", \"showarrow\": false, \"font\": {\"size\": 9}}, {\"x\": 50, \"y\": 2.001, \"text\": \"2\", \"yanchor\": \"bottom\", \"showarrow\": false, \"font\": {\"size\": 9}}]}, {\"showLink\": true, \"linkText\": \"Export to plot.ly\"})});</script>"
      ],
      "text/plain": [
       "<IPython.core.display.HTML object>"
      ]
     },
     "metadata": {},
     "output_type": "display_data"
    }
   ],
   "source": [
    "trace3 = go.Bar(\n",
    "    x = stats_df.index,\n",
    "    y = stats_df['y_killed'],\n",
    "    name = 'Max Killed in MCI'\n",
    ")\n",
    "data = [trace3]\n",
    "layout = go.Layout(\n",
    "    barmode='stack',\n",
    "    annotations=annotate(stats_df, 'y_killed')\n",
    ")\n",
    "\n",
    "fig2 = go.Figure(data=data, layout=layout)\n",
    "py.iplot(fig2, filename='US Gun Violence')"
   ]
  }
 ],
 "metadata": {
  "kernelspec": {
   "display_name": "Python 3",
   "language": "python",
   "name": "python3"
  },
  "language_info": {
   "codemirror_mode": {
    "name": "ipython",
    "version": 3
   },
   "file_extension": ".py",
   "mimetype": "text/x-python",
   "name": "python",
   "nbconvert_exporter": "python",
   "pygments_lexer": "ipython3",
   "version": "3.6.1"
  }
 },
 "nbformat": 4,
 "nbformat_minor": 2
}
